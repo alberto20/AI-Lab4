import csv
import zipfile
import os
import matplotlib.pyplot as plt
import numpy as np
from sklearn.feature_extraction.text import CountVectorizer
import keras
from sklearn.preprocessing import LabelEncoder

zip_ref = zipfile.ZipFile("data-lab4.zip", 'r')
zip_ref.extractall()

x_test = []
x_train = []
y_train = []
y_test = []

ntest = 0
ptest = 0
btest = 0 

ntrain = 0 
ptrain = 0
btrain = 0

g_ytrain = y_train
g_ytest = y_test

inputFile = csv.reader(open('data-lab4/testing.csv', 'r', encoding = "ISO-8859 -1"))

for line in inputFile:
  y_test.append(line[0])
  x_test.append(line[5])
  if line[0] == '0':
    btest = btest +1
  if line[0] == '2':
    ntest = ntest +1
  if line[0] == '4':
    ptest = ptest +1
  
inputFile = csv.reader(open('data-lab4/training.csv', 'r', encoding = "ISO-8859 -1"))

for line in inputFile:
  y_train.append(line[0])
  x_train.append(line[5])
  if line[0] == '0':
    btrain = btrain +1
  if line[0] == '2':
    ntrain = ntrain +1
  if line[0] == '4':
    ptrain = ptrain +1
  
total = len(y_train) + len(y_test)

print( 'Total samples: ' + str(total) )
print( 'Train samples: ' + str(len(y_train)) )
print( 'Test samples: ' + str(len(y_test)) )

print( 'Data sample: ' + x_test[0])
print( 'Value: ' + str(y_test[0]))


#print(len(g_ytrain))
#print(len(g_ytest))

y_train = keras.utils.to_categorical( y_train )
y_test = keras.utils.to_categorical( y_test )

print( 'categorical example: ', y_test[0] )

vectorizer = CountVectorizer( min_df=0, lowercase=False, max_df=0.8, max_features=5000, stop_words='english' )
vectorizer.fit( x_test )
vectorizer.vocabulary_
x_train = vectorizer.transform( x_train )
x_test = vectorizer.transform( x_test )

Negative = [btrain, btest]
Positive = [ptrain, ptest]
Nuetral = [ntrain, ntest]

#print(Positive)

plt.bar(np.arange(2), Negative, .35)
plt.bar(np.arange(2)+ .35, Nuetral, .35)
plt.bar(np.arange(2)+ .35, Positive, .35)
plt.xticks(np.arange(2), ('Testing', 'Training'))
plt.xlabel('Training vs Testing Data', fontsize = 16)
plt.ylabel('Count of Tweets', fontsize = 16)
plt.legend(['Negative', 'Nuetral', 'Positive'])
plt.show

from keras.models import Sequential
from keras import layers

input_dim = x_train.shape[1]  # Number of features

model = Sequential()
model.add()
model.add(layers.Dense(10, input_dim=input_dim, activation='relu'))
model.add(layers.Dense(5, activation='sigmoid'))

model.compile(loss=keras.losses.categorical_crossentropy,
              optimizer=keras.optimizers.SGD(),
              metrics=['accuracy'])

model.summary()

model.fit(x_train, y_train,
          epochs=5,
          verbose=1,
          validation_data=(x_test, y_test),
          batch_size=35, shuffle=True)

print()
loss, accuracy = model.evaluate(x_train, y_train, verbose=True)
print("Training Accuracy: {:.4f}".format(accuracy))

loss, accuracy = model.evaluate(x_test, y_test, verbose=True)
print("Testing Accuracy:  {:.4f}".format(accuracy))


from sklearn import metrics
from numpy import argmax
import matplotlib.pyplot as plt
import numpy as np


y_pred = model.predict_classes( x_test )
y_test = np.argmax( y_test, axis=1 )

report = metrics.classification_report( y_test, y_pred)
print( report )

fpr, tpr, threshold = metrics.roc_curve( y_test, y_pred, pos_label=4)
roc_auc = metrics.auc(fpr, tpr)

plt.figure()
plt.plot(fpr, tpr, color='darkorange', lw=1, label='ROC curve (area = %0.2f)' % roc_auc)
plt.plot([0, 1], [0, 1], color='navy', linestyle='--')
plt.xlim([0.0, 1.0])
plt.ylim([0.0, 1.05])
plt.xlabel('False Positive Rate')
plt.ylabel('True Positive Rate')
plt.title('Receiver operating characteristic')
plt.legend(loc="lower right")

plt.show()
